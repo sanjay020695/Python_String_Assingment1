{
 "cells": [
  {
   "cell_type": "code",
   "execution_count": 1,
   "id": "5228594c-9dc6-45b0-8b7e-0bf719457fee",
   "metadata": {},
   "outputs": [],
   "source": [
    "#1.concatenate of two string in python"
   ]
  },
  {
   "cell_type": "code",
   "execution_count": 2,
   "id": "97f41b51-4c7f-4286-8325-79342b0c0103",
   "metadata": {},
   "outputs": [],
   "source": [
    "str1 = \"python\"\n",
    "str2 = \"java\""
   ]
  },
  {
   "cell_type": "code",
   "execution_count": 3,
   "id": "aa932a03-3ade-406a-9d43-970e66dcd0f4",
   "metadata": {},
   "outputs": [
    {
     "name": "stdout",
     "output_type": "stream",
     "text": [
      "pythonjava\n"
     ]
    }
   ],
   "source": [
    "print(str1+str2)"
   ]
  },
  {
   "cell_type": "code",
   "execution_count": 4,
   "id": "753acae6-0aa1-424f-a77a-8aadba3ff705",
   "metadata": {},
   "outputs": [],
   "source": [
    "#2.What difference b/w +operator and the join() method for concatenaning string?"
   ]
  },
  {
   "cell_type": "code",
   "execution_count": 5,
   "id": "5480c3e7-65b8-43fb-abce-e12c38c45bd6",
   "metadata": {},
   "outputs": [],
   "source": [
    "num1 = 5\n",
    "num2 = 1\n",
    "num = num1+num2"
   ]
  },
  {
   "cell_type": "code",
   "execution_count": 6,
   "id": "86460e72-d9e6-4f44-82f6-acd437382c90",
   "metadata": {},
   "outputs": [
    {
     "name": "stdout",
     "output_type": "stream",
     "text": [
      "6\n"
     ]
    }
   ],
   "source": [
    "print(num)"
   ]
  },
  {
   "cell_type": "code",
   "execution_count": 7,
   "id": "5199ca64-b266-4a90-8f82-276ce2b95862",
   "metadata": {},
   "outputs": [],
   "source": [
    "string = \"sanjay\", \"020695\", \"gmail.com\""
   ]
  },
  {
   "cell_type": "code",
   "execution_count": 8,
   "id": "8101f480-76a7-426f-900d-18ea156cf0d0",
   "metadata": {},
   "outputs": [
    {
     "data": {
      "text/plain": [
       "'sanjay020695gmail.com'"
      ]
     },
     "execution_count": 8,
     "metadata": {},
     "output_type": "execute_result"
    }
   ],
   "source": [
    "\"\".join(string)"
   ]
  },
  {
   "cell_type": "code",
   "execution_count": 9,
   "id": "45a3d63b-1b7c-45e8-8840-1e1d1cb84155",
   "metadata": {},
   "outputs": [],
   "source": [
    "#3.how do you acess individual characters in a string?"
   ]
  },
  {
   "cell_type": "code",
   "execution_count": 10,
   "id": "98a52a28-5eae-46cf-9d20-b65c706496fb",
   "metadata": {},
   "outputs": [],
   "source": [
    "string = \"python\""
   ]
  },
  {
   "cell_type": "code",
   "execution_count": 14,
   "id": "53b7ad72-5033-40e0-8653-5bb9071a2f13",
   "metadata": {},
   "outputs": [
    {
     "name": "stdout",
     "output_type": "stream",
     "text": [
      "p\n"
     ]
    }
   ],
   "source": [
    "print(string[0])"
   ]
  },
  {
   "cell_type": "code",
   "execution_count": 15,
   "id": "618f70dd-036d-4c9b-b3f4-4493f7febdd6",
   "metadata": {},
   "outputs": [],
   "source": [
    "#4.what method is used to find the length of a string in python?"
   ]
  },
  {
   "cell_type": "code",
   "execution_count": 16,
   "id": "707bf947-d5f9-4b85-8d9a-86fa6f147244",
   "metadata": {},
   "outputs": [],
   "source": [
    "string = \"python\""
   ]
  },
  {
   "cell_type": "code",
   "execution_count": 17,
   "id": "381e3b45-35b1-4f00-a3f5-1c61826e7b7a",
   "metadata": {},
   "outputs": [
    {
     "data": {
      "text/plain": [
       "6"
      ]
     },
     "execution_count": 17,
     "metadata": {},
     "output_type": "execute_result"
    }
   ],
   "source": [
    "len(string)"
   ]
  },
  {
   "cell_type": "code",
   "execution_count": 18,
   "id": "1aa53699-1fe0-4aed-9210-38b66e347223",
   "metadata": {},
   "outputs": [],
   "source": [
    "#5.how can you convert a string to uppercase in string?"
   ]
  },
  {
   "cell_type": "code",
   "execution_count": 19,
   "id": "e4d692b2-478d-4989-96af-8a3235909959",
   "metadata": {},
   "outputs": [],
   "source": [
    "string = \"world\""
   ]
  },
  {
   "cell_type": "code",
   "execution_count": 20,
   "id": "861f3ca5-db35-418f-9f54-b4b06c93cf2d",
   "metadata": {},
   "outputs": [
    {
     "name": "stdout",
     "output_type": "stream",
     "text": [
      "WORLD\n"
     ]
    }
   ],
   "source": [
    "print(string.upper())"
   ]
  },
  {
   "cell_type": "code",
   "execution_count": 21,
   "id": "e66d280b-9ab5-47bd-9d4d-807b1f431b3b",
   "metadata": {},
   "outputs": [],
   "source": [
    "#6.how can you convert a string to lowercase in string?"
   ]
  },
  {
   "cell_type": "code",
   "execution_count": 22,
   "id": "d99bd40c-56ed-4ea2-9195-7a94901ecbb3",
   "metadata": {},
   "outputs": [],
   "source": [
    "string = \"WORLD\""
   ]
  },
  {
   "cell_type": "code",
   "execution_count": 23,
   "id": "f3b410e8-d676-4a1b-87f0-ba8a711e2895",
   "metadata": {},
   "outputs": [
    {
     "name": "stdout",
     "output_type": "stream",
     "text": [
      "world\n"
     ]
    }
   ],
   "source": [
    "print(string.lower())"
   ]
  },
  {
   "cell_type": "code",
   "execution_count": 24,
   "id": "8eb2c535-f6a8-416d-a70e-bddf7774d4fe",
   "metadata": {},
   "outputs": [],
   "source": [
    "#7.what method is used to replace subsstrings within a string?"
   ]
  },
  {
   "cell_type": "code",
   "execution_count": 25,
   "id": "1151240b-172c-4aae-bb86-0065e82058f9",
   "metadata": {},
   "outputs": [],
   "source": [
    "string = \"this is python\""
   ]
  },
  {
   "cell_type": "code",
   "execution_count": 26,
   "id": "79e8a5d5-2419-468f-8b24-071805e22665",
   "metadata": {},
   "outputs": [
    {
     "name": "stdout",
     "output_type": "stream",
     "text": [
      "this is java\n"
     ]
    }
   ],
   "source": [
    "print(string.replace(\"python\",\"java\"))   #replacing java with python"
   ]
  },
  {
   "cell_type": "code",
   "execution_count": 27,
   "id": "c0816b5d-7847-4f8e-a6ea-13e530f3f310",
   "metadata": {},
   "outputs": [],
   "source": [
    "#8.How can you split a string into a list of substrings based on a delimiter?"
   ]
  },
  {
   "cell_type": "code",
   "execution_count": 28,
   "id": "76d6e03d-6fdb-4bc6-8b2a-e0bb7c7987d8",
   "metadata": {},
   "outputs": [],
   "source": [
    "string = \"indiaisgreat\""
   ]
  },
  {
   "cell_type": "code",
   "execution_count": 29,
   "id": "1881809b-ea4b-4bd9-ba7a-00eb55d4318a",
   "metadata": {},
   "outputs": [
    {
     "name": "stdout",
     "output_type": "stream",
     "text": [
      "['india', 'great']\n"
     ]
    }
   ],
   "source": [
    "print(string.split(\"is\"))"
   ]
  },
  {
   "cell_type": "code",
   "execution_count": 30,
   "id": "2d1f41dc-25de-4137-bcc9-7cb20d9b9966",
   "metadata": {},
   "outputs": [],
   "source": [
    "#9.How do you check if a string starts with a particular substring?"
   ]
  },
  {
   "cell_type": "code",
   "execution_count": 31,
   "id": "2a60ea33-81ac-4f03-ae84-ac3e9b3ae2cb",
   "metadata": {},
   "outputs": [],
   "source": [
    "string = \"india\""
   ]
  },
  {
   "cell_type": "code",
   "execution_count": 32,
   "id": "209610e0-5253-4c7c-9a15-0e18ac7fa55a",
   "metadata": {},
   "outputs": [
    {
     "name": "stdout",
     "output_type": "stream",
     "text": [
      "True\n"
     ]
    }
   ],
   "source": [
    "print(string.startswith(\"i\"))"
   ]
  },
  {
   "cell_type": "code",
   "execution_count": 33,
   "id": "d31d9726-92e7-4270-87c3-07a13c678fa4",
   "metadata": {},
   "outputs": [],
   "source": [
    "#10.How do you check if a string ends with a particular substring?"
   ]
  },
  {
   "cell_type": "code",
   "execution_count": 34,
   "id": "db5756cf-1efd-4f9d-a152-f896ce4bc57e",
   "metadata": {},
   "outputs": [],
   "source": [
    "string = \"india\""
   ]
  },
  {
   "cell_type": "code",
   "execution_count": 35,
   "id": "53932ff3-fc95-479c-8bbf-332ca21009e3",
   "metadata": {},
   "outputs": [
    {
     "name": "stdout",
     "output_type": "stream",
     "text": [
      "True\n"
     ]
    }
   ],
   "source": [
    "print(string.endswith(\"a\"))"
   ]
  },
  {
   "cell_type": "code",
   "execution_count": 36,
   "id": "d048be00-ce88-4a02-a51d-e1a95daaa1c6",
   "metadata": {},
   "outputs": [],
   "source": [
    "#11.How can you remove leading and trailing whitespace from a string?"
   ]
  },
  {
   "cell_type": "code",
   "execution_count": 37,
   "id": "6b927d88-b312-478f-bfe9-e7742558ecb4",
   "metadata": {},
   "outputs": [],
   "source": [
    "string = \"   i love my india   \""
   ]
  },
  {
   "cell_type": "code",
   "execution_count": 38,
   "id": "a4a6f721-31aa-4241-8f72-91bd72cd28c7",
   "metadata": {},
   "outputs": [
    {
     "name": "stdout",
     "output_type": "stream",
     "text": [
      "   i love my india   \n"
     ]
    }
   ],
   "source": [
    "print(string.strip(\"\"))"
   ]
  },
  {
   "cell_type": "code",
   "execution_count": 39,
   "id": "aac0b878-74d5-439b-ada2-ab1e8031adb7",
   "metadata": {},
   "outputs": [],
   "source": [
    "#12.what mwthod is used to find the index of the first occurrence of a substring within a string?"
   ]
  },
  {
   "cell_type": "code",
   "execution_count": 40,
   "id": "3a3ed0a6-c9b5-48b7-abe4-f848cd5240f8",
   "metadata": {},
   "outputs": [],
   "source": [
    "string = \"ducat\""
   ]
  },
  {
   "cell_type": "code",
   "execution_count": 42,
   "id": "a8952e9b-d87c-4ee1-81ca-2cb1dc08cade",
   "metadata": {},
   "outputs": [
    {
     "name": "stdout",
     "output_type": "stream",
     "text": [
      "0\n"
     ]
    }
   ],
   "source": [
    "print(string.index(\"d\"))"
   ]
  },
  {
   "cell_type": "code",
   "execution_count": 43,
   "id": "6ade9da6-0422-43af-bebc-b8826d0e1ed0",
   "metadata": {},
   "outputs": [],
   "source": [
    "#13.How can you count the number of occurrence of a substring within a string?"
   ]
  },
  {
   "cell_type": "code",
   "execution_count": 47,
   "id": "41e08202-7fbf-4e6e-8611-eb1fdc307fdc",
   "metadata": {},
   "outputs": [],
   "source": [
    "string = \"coaching\""
   ]
  },
  {
   "cell_type": "code",
   "execution_count": 48,
   "id": "c624c173-feb9-4459-862d-bee8b79f7c39",
   "metadata": {},
   "outputs": [
    {
     "name": "stdout",
     "output_type": "stream",
     "text": [
      "2\n"
     ]
    }
   ],
   "source": [
    "print(string.count(\"c\"))"
   ]
  },
  {
   "cell_type": "code",
   "execution_count": 49,
   "id": "c5264473-9eda-4ac9-89b6-61a81ecaf65c",
   "metadata": {},
   "outputs": [],
   "source": [
    "#14.check if a string contains only alphabetic characters?"
   ]
  },
  {
   "cell_type": "code",
   "execution_count": 50,
   "id": "6d7ee47d-b90a-4241-9212-129e7f3ff2a8",
   "metadata": {},
   "outputs": [],
   "source": [
    "string = \"sanjay020695\""
   ]
  },
  {
   "cell_type": "code",
   "execution_count": 56,
   "id": "f6fcd151-378a-4a88-8973-b6a45fdf1df6",
   "metadata": {},
   "outputs": [
    {
     "name": "stdout",
     "output_type": "stream",
     "text": [
      "sanjay\n"
     ]
    }
   ],
   "source": [
    "print(string[:6:])"
   ]
  },
  {
   "cell_type": "code",
   "execution_count": 57,
   "id": "ff9a83d0-691c-4e32-b100-4c4dc1238725",
   "metadata": {},
   "outputs": [],
   "source": [
    "#15.check if a string contains only numeric characters?"
   ]
  },
  {
   "cell_type": "code",
   "execution_count": 58,
   "id": "5d8d61f4-0d91-423e-a396-32bd8b6ea833",
   "metadata": {},
   "outputs": [],
   "source": [
    "string = \"sanjay020695\""
   ]
  },
  {
   "cell_type": "code",
   "execution_count": 61,
   "id": "8bf47e06-eeb9-4169-b774-f9bed3e0ad19",
   "metadata": {},
   "outputs": [
    {
     "name": "stdout",
     "output_type": "stream",
     "text": [
      "020695\n"
     ]
    }
   ],
   "source": [
    "print(string[-6::])"
   ]
  },
  {
   "cell_type": "code",
   "execution_count": 62,
   "id": "a2c2e1cd-8d7f-45bf-a48b-602dd7d197ae",
   "metadata": {},
   "outputs": [],
   "source": [
    "#16.How can you check if a string is a palindrome?"
   ]
  },
  {
   "cell_type": "code",
   "execution_count": 63,
   "id": "33f69eb5-6694-44bf-a020-dec745e39770",
   "metadata": {},
   "outputs": [],
   "source": [
    "string = \"mom\""
   ]
  },
  {
   "cell_type": "code",
   "execution_count": 68,
   "id": "c5144c07-95d1-47c7-b429-cb2c8c85e697",
   "metadata": {},
   "outputs": [],
   "source": [
    "reversed_string = string[::-1]"
   ]
  },
  {
   "cell_type": "code",
   "execution_count": 70,
   "id": "25e1fd20-1285-4822-a88e-fffe78e1cd8e",
   "metadata": {},
   "outputs": [
    {
     "data": {
      "text/plain": [
       "True"
      ]
     },
     "execution_count": 70,
     "metadata": {},
     "output_type": "execute_result"
    }
   ],
   "source": [
    "string ==reversed_string"
   ]
  },
  {
   "cell_type": "code",
   "execution_count": 71,
   "id": "242f0c6f-4949-4d0d-a89a-50db633dd3aa",
   "metadata": {},
   "outputs": [],
   "source": [
    "#17.how can you reverse a string in python?"
   ]
  },
  {
   "cell_type": "code",
   "execution_count": 72,
   "id": "286251da-da04-45e6-aed1-228c11f832af",
   "metadata": {},
   "outputs": [],
   "source": [
    "string = \"python\""
   ]
  },
  {
   "cell_type": "code",
   "execution_count": 73,
   "id": "a2d0d61e-8f25-4650-8b3f-6ac9ecd24b12",
   "metadata": {},
   "outputs": [
    {
     "name": "stdout",
     "output_type": "stream",
     "text": [
      "nohtyp\n"
     ]
    }
   ],
   "source": [
    "print(string[::-1])"
   ]
  },
  {
   "cell_type": "code",
   "execution_count": 74,
   "id": "fa40077e-9ad6-4202-8a8d-51281763d290",
   "metadata": {},
   "outputs": [],
   "source": [
    "#18.How do you format a string with placeholders for variable values?"
   ]
  },
  {
   "cell_type": "code",
   "execution_count": 75,
   "id": "6f0cc0bf-6224-46d8-9a6e-5bf66a7432b8",
   "metadata": {},
   "outputs": [
    {
     "name": "stdout",
     "output_type": "stream",
     "text": [
      "my name is sanjay and my age is 22\n"
     ]
    }
   ],
   "source": [
    "name = \"sanjay\"\n",
    "age = 22\n",
    "message = \"my name is name and my age is age\"\n",
    "message1= f\"my name is {name} and my age is {age}\"\n",
    "print(message1)"
   ]
  },
  {
   "cell_type": "code",
   "execution_count": 76,
   "id": "3fb96745-b871-4fd2-b63c-3f36b65e0b21",
   "metadata": {},
   "outputs": [],
   "source": [
    "#19.How do you access a substring of a string using slicing?"
   ]
  },
  {
   "cell_type": "code",
   "execution_count": 77,
   "id": "0c1ce038-af5b-4e77-b431-1082250bf9fa",
   "metadata": {},
   "outputs": [],
   "source": [
    "string = \"hello python\""
   ]
  },
  {
   "cell_type": "code",
   "execution_count": 78,
   "id": "7479b3da-c234-49df-98ae-01ba47503391",
   "metadata": {},
   "outputs": [
    {
     "name": "stdout",
     "output_type": "stream",
     "text": [
      "hlo\n"
     ]
    }
   ],
   "source": [
    "print(string[:5:2])"
   ]
  },
  {
   "cell_type": "code",
   "execution_count": 79,
   "id": "671c4ff6-05cd-4a67-b65a-3b761bc38120",
   "metadata": {},
   "outputs": [],
   "source": [
    "#20.How can you remove specific characters from a string in python?"
   ]
  },
  {
   "cell_type": "code",
   "execution_count": 80,
   "id": "ba354761-4204-4c8b-815b-3deac360eb71",
   "metadata": {},
   "outputs": [],
   "source": [
    "string = \"sanjay95@gmail.com\""
   ]
  },
  {
   "cell_type": "code",
   "execution_count": 81,
   "id": "95777a2a-2a95-4498-85d9-663a30028289",
   "metadata": {},
   "outputs": [],
   "source": [
    "string1 = string.replace(\"95\", \"\").replace(\"@\", \"\")"
   ]
  },
  {
   "cell_type": "code",
   "execution_count": 82,
   "id": "98b7336d-9e5e-4e29-abe8-f699a42a8773",
   "metadata": {},
   "outputs": [
    {
     "name": "stdout",
     "output_type": "stream",
     "text": [
      "sanjaygmail.com\n"
     ]
    }
   ],
   "source": [
    "print(string1)"
   ]
  },
  {
   "cell_type": "code",
   "execution_count": null,
   "id": "fc124343-98fa-4af8-8d27-4f2f11f532b2",
   "metadata": {},
   "outputs": [],
   "source": []
  }
 ],
 "metadata": {
  "kernelspec": {
   "display_name": "Python [conda env:base] *",
   "language": "python",
   "name": "conda-base-py"
  },
  "language_info": {
   "codemirror_mode": {
    "name": "ipython",
    "version": 3
   },
   "file_extension": ".py",
   "mimetype": "text/x-python",
   "name": "python",
   "nbconvert_exporter": "python",
   "pygments_lexer": "ipython3",
   "version": "3.13.5"
  }
 },
 "nbformat": 4,
 "nbformat_minor": 5
}
